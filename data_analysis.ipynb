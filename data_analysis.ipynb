{
 "cells": [
  {
   "cell_type": "code",
   "execution_count": 2,
   "id": "intelligent-hydrogen",
   "metadata": {},
   "outputs": [],
   "source": [
    "from utils.dataset_utils import convote_database_to_df\n",
    "import matplotlib.pyplot as plt"
   ]
  },
  {
   "cell_type": "code",
   "execution_count": 3,
   "id": "accomplished-anatomy",
   "metadata": {},
   "outputs": [],
   "source": [
    "df = convote_database_to_df()"
   ]
  },
  {
   "cell_type": "code",
   "execution_count": 4,
   "id": "applicable-tragedy",
   "metadata": {},
   "outputs": [
    {
     "data": {
      "text/plain": "                                                text party  party_num_label\n0  mr speaker want thank gentleman massachusetts ...     D                0\n1  mr speaker thank distinguish chairman yield op...     R                1\n2  madam speaker yield time may consume colleague...     D                0\n3  mr chairman reclaim time thank gentleman comme...     R                1\n4  mr speaker claim time opposition motion recomm...     R                1",
      "text/html": "<div>\n<style scoped>\n    .dataframe tbody tr th:only-of-type {\n        vertical-align: middle;\n    }\n\n    .dataframe tbody tr th {\n        vertical-align: top;\n    }\n\n    .dataframe thead th {\n        text-align: right;\n    }\n</style>\n<table border=\"1\" class=\"dataframe\">\n  <thead>\n    <tr style=\"text-align: right;\">\n      <th></th>\n      <th>text</th>\n      <th>party</th>\n      <th>party_num_label</th>\n    </tr>\n  </thead>\n  <tbody>\n    <tr>\n      <th>0</th>\n      <td>mr speaker want thank gentleman massachusetts ...</td>\n      <td>D</td>\n      <td>0</td>\n    </tr>\n    <tr>\n      <th>1</th>\n      <td>mr speaker thank distinguish chairman yield op...</td>\n      <td>R</td>\n      <td>1</td>\n    </tr>\n    <tr>\n      <th>2</th>\n      <td>madam speaker yield time may consume colleague...</td>\n      <td>D</td>\n      <td>0</td>\n    </tr>\n    <tr>\n      <th>3</th>\n      <td>mr chairman reclaim time thank gentleman comme...</td>\n      <td>R</td>\n      <td>1</td>\n    </tr>\n    <tr>\n      <th>4</th>\n      <td>mr speaker claim time opposition motion recomm...</td>\n      <td>R</td>\n      <td>1</td>\n    </tr>\n  </tbody>\n</table>\n</div>"
     },
     "execution_count": 4,
     "metadata": {},
     "output_type": "execute_result"
    }
   ],
   "source": [
    "df.head()"
   ]
  },
  {
   "cell_type": "code",
   "execution_count": 5,
   "id": "black-evening",
   "metadata": {},
   "outputs": [
    {
     "data": {
      "text/plain": "R    1373\nD    1350\nI      17\nName: party, dtype: int64"
     },
     "execution_count": 5,
     "metadata": {},
     "output_type": "execute_result"
    }
   ],
   "source": [
    "df['party'].value_counts()"
   ]
  },
  {
   "cell_type": "code",
   "execution_count": 14,
   "id": "reverse-mediterranean",
   "metadata": {},
   "outputs": [
    {
     "data": {
      "image/png": "[encoded data removed]",
      "text/plain": [
       "<Figure size 432x288 with 1 Axes>"
      ]
     },
     "metadata": {
      "needs_background": "light"
     },
     "output_type": "display_data"
    }
   ],
   "source": [
    "party_count = df.groupby('party').count()\n",
    "plt.bar(party_count.index.values, party_count['text'])\n",
    "plt.xlabel('Party')\n",
    "plt.ylabel('Number of samples')\n",
    "plt.show()"
   ]
  }
 ],
 "metadata": {
  "kernelspec": {
   "display_name": "Python 3",
   "language": "python",
   "name": "python3"
  },
  "language_info": {
   "codemirror_mode": {
    "name": "ipython",
    "version": 3
   },
   "file_extension": ".py",
   "mimetype": "text/x-python",
   "name": "python",
   "nbconvert_exporter": "python",
   "pygments_lexer": "ipython3",
   "version": "3.8.5"
  }
 },
 "nbformat": 4,
 "nbformat_minor": 5
}