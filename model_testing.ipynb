{
 "cells": [
  {
   "cell_type": "code",
   "execution_count": 13,
   "id": "first-keeping",
   "metadata": {},
   "outputs": [],
   "source": [
    "import numpy as np\n",
    "import pandas as pd\n",
    "import seaborn as sns\n",
    "import matplotlib.pyplot as plt\n",
    "from build_df import build_df\n",
    "from sklearn import feature_extraction, model_selection, linear_model, pipeline, metrics, svm, naive_bayes"
   ]
  },
  {
   "cell_type": "code",
   "execution_count": 14,
   "id": "remarkable-property",
   "metadata": {},
   "outputs": [],
   "source": [
    "df = build_df()\n",
    "\n",
    "X = df['text']\n",
    "y = df['party_num_label']\n",
    "X_train, X_test, y_train, y_test = model_selection.train_test_split(X, y, test_size=0.1)"
   ]
  },
  {
   "cell_type": "code",
   "execution_count": 43,
   "id": "comparative-sydney",
   "metadata": {},
   "outputs": [
    {
     "name": "stdout",
     "output_type": "stream",
     "text": [
      "SVM accuracy: 0.7554744525547445\n",
      "              precision    recall  f1-score   support\n",
      "\n",
      "           0       0.75      0.76      0.75       136\n",
      "           1       0.76      0.75      0.76       138\n",
      "\n",
      "    accuracy                           0.76       274\n",
      "   macro avg       0.76      0.76      0.76       274\n",
      "weighted avg       0.76      0.76      0.76       274\n",
      "\n"
     ]
    }
   ],
   "source": [
    "# Stochastic gradient descent SVM\n",
    "\n",
    "svm_model = pipeline.Pipeline([\n",
    "    ('tfidf', feature_extraction.text.TfidfVectorizer()),\n",
    "    ('clf', linear_model.SGDClassifier(loss='hinge'))\n",
    "])\n",
    "\n",
    "svm_model.fit(X_train, y_train)\n",
    "\n",
    "y_predict = svm_model.predict(X_test)\n",
    "\n",
    "accuracy = metrics.accuracy_score(y_predict, y_test)\n",
    "print(f'SVM accuracy: {accuracy}')\n",
    "print(metrics.classification_report(y_test, y_predict))"
   ]
  },
  {
   "cell_type": "code",
   "execution_count": 41,
   "id": "surprising-enclosure",
   "metadata": {},
   "outputs": [
    {
     "name": "stdout",
     "output_type": "stream",
     "text": [
      "SVC accuracy: 0.7408759124087592\n",
      "              precision    recall  f1-score   support\n",
      "\n",
      "           0       0.74      0.74      0.74       136\n",
      "           1       0.74      0.74      0.74       138\n",
      "\n",
      "    accuracy                           0.74       274\n",
      "   macro avg       0.74      0.74      0.74       274\n",
      "weighted avg       0.74      0.74      0.74       274\n",
      "\n"
     ]
    }
   ],
   "source": [
    "# SVC\n",
    "\n",
    "svc_model = pipeline.Pipeline([\n",
    "    ('tfidf', feature_extraction.text.TfidfVectorizer()),\n",
    "    ('clf', svm.LinearSVC())\n",
    "])\n",
    "\n",
    "svc_model.fit(X_train, y_train)\n",
    "\n",
    "y_predict = svc_model.predict(X_test)\n",
    "\n",
    "accuracy = metrics.accuracy_score(y_predict, y_test)\n",
    "print(f'SVC accuracy: {accuracy}')\n",
    "print(metrics.classification_report(y_test, y_predict))"
   ]
  },
  {
   "cell_type": "code",
   "execution_count": 40,
   "id": "ongoing-speaker",
   "metadata": {},
   "outputs": [
    {
     "name": "stdout",
     "output_type": "stream",
     "text": [
      "NB accuracy: 0.6970802919708029\n",
      "              precision    recall  f1-score   support\n",
      "\n",
      "           0       0.72      0.64      0.68       136\n",
      "           1       0.68      0.75      0.71       138\n",
      "\n",
      "    accuracy                           0.70       274\n",
      "   macro avg       0.70      0.70      0.70       274\n",
      "weighted avg       0.70      0.70      0.70       274\n",
      "\n"
     ]
    }
   ],
   "source": [
    "# Naive bayes\n",
    "\n",
    "nb_model = pipeline.Pipeline([\n",
    "    ('tfidf', feature_extraction.text.TfidfVectorizer()),\n",
    "    ('clf', naive_bayes.MultinomialNB())\n",
    "])\n",
    "\n",
    "nb_model.fit(X_train, y_train)\n",
    "\n",
    "y_predict = nb_model.predict(X_test)\n",
    "\n",
    "accuracy = metrics.accuracy_score(y_predict, y_test)\n",
    "print(f'NB accuracy: {accuracy}')\n",
    "print(metrics.classification_report(y_test, y_predict))"
   ]
  }
 ],
 "metadata": {
  "kernelspec": {
   "display_name": "Python 3",
   "language": "python",
   "name": "python3"
  },
  "language_info": {
   "codemirror_mode": {
    "name": "ipython",
    "version": 3
   },
   "file_extension": ".py",
   "mimetype": "text/x-python",
   "name": "python",
   "nbconvert_exporter": "python",
   "pygments_lexer": "ipython3",
   "version": "3.8.5"
  }
 },
 "nbformat": 4,
 "nbformat_minor": 5
}
